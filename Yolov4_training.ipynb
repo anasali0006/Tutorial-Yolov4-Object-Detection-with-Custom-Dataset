{
  "nbformat": 4,
  "nbformat_minor": 0,
  "metadata": {
    "colab": {
      "name": "Yolov4_training.ipynb",
      "provenance": [],
      "collapsed_sections": [],
      "include_colab_link": true
    },
    "kernelspec": {
      "display_name": "Python 3",
      "name": "python3"
    }
  },
  "cells": [
    {
      "cell_type": "markdown",
      "metadata": {
        "id": "view-in-github",
        "colab_type": "text"
      },
      "source": [
        "<a href=\"https://colab.research.google.com/github/anasali0006/Tutorial-Yolov4-Object-Detection-with-Custom-Dataset/blob/main/Yolov4_training.ipynb\" target=\"_parent\"><img src=\"https://colab.research.google.com/assets/colab-badge.svg\" alt=\"Open In Colab\"/></a>"
      ]
    },
    {
      "cell_type": "markdown",
      "metadata": {
        "id": "CTqTBmNwtj7F"
      },
      "source": [
        "## Mount with your Google Drive"
      ]
    },
    {
      "cell_type": "code",
      "metadata": {
        "id": "6ZBqlVeQtY0O"
      },
      "source": [
        "from google.colab import drive\n",
        "drive.mount('/content/drive')"
      ],
      "execution_count": null,
      "outputs": []
    },
    {
      "cell_type": "markdown",
      "metadata": {
        "id": "HalkELEPW0Xk"
      },
      "source": [
        "## Setup darknet environment"
      ]
    },
    {
      "cell_type": "code",
      "metadata": {
        "id": "PYhvedK5An20"
      },
      "source": [
        "# check whether GPU is provided\n",
        "!nvcc --version\n"
      ],
      "execution_count": null,
      "outputs": []
    },
    {
      "cell_type": "code",
      "metadata": {
        "id": "chLx6CYonvRq"
      },
      "source": [
        "import os\n",
        "assert os.getcwd()=='/content', 'Directory should be \"/content\" instead of \"{}\"'.format(os.getcwd())\n",
        "\n",
        "# remove the existing folder if have\n",
        "#!rm -r darknet_for_colab\n",
        "\n",
        "# download and compile darknet_for_colab\n",
        "!git clone https://github.com/anasali0006/darknet_for_colab.git\n",
        "%cd darknet_for_colab\n",
        "!make\n",
        "!chmod +x ./darknet"
      ],
      "execution_count": null,
      "outputs": []
    },
    {
      "cell_type": "markdown",
      "metadata": {
        "id": "Lxj5xT4RXorl"
      },
      "source": [
        "## Download yolov4 pre-trained weights"
      ]
    },
    {
      "cell_type": "code",
      "metadata": {
        "id": "fR_c5rzB1CMM"
      },
      "source": [
        "assert os.getcwd()=='/content/darknet_for_colab', 'Directory should be \"/content/darknet_for_colab\" instead of \"{}\"'.format(os.getcwd())\n",
        "!wget https://github.com/AlexeyAB/darknet/releases/download/darknet_yolo_v3_optimal/yolov4.conv.137"
      ],
      "execution_count": null,
      "outputs": []
    },
    {
      "cell_type": "markdown",
      "metadata": {
        "id": "13uuLYmGX0Fu"
      },
      "source": [
        "## Download custom dataset (yolo format)"
      ]
    },
    {
      "cell_type": "code",
      "metadata": {
        "id": "GnFkAq2PNVNB"
      },
      "source": [
        "%cd data\n",
        "assert os.getcwd()=='/content/darknet_for_colab/data', 'Directory should be \"/content/darknet_for_colab/data\" instead of \"{}\"'.format(os.getcwd())\n",
        "\n",
        "# download custom data of weapons from drive\n",
        "!cp /content/drive/MyDrive/Weapon_Detection/FINAL2-Updated.zip .\n",
        "!unzip FINAL2-Updated.zip\n",
        "!rm FINAL2-Updated.zip"
      ],
      "execution_count": null,
      "outputs": []
    },
    {
      "cell_type": "code",
      "metadata": {
        "id": "RWO54lXFcoiW"
      },
      "source": [
        "!mkdir ts\n",
        "!cp -r images/. ts/\n",
        "!cp -r yolo-labels/. ts/\n",
        "!rm -r images\n",
        "!rm -r yolo-labels"
      ],
      "execution_count": 11,
      "outputs": []
    },
    {
      "cell_type": "code",
      "metadata": {
        "id": "uq4PKarxZhyW"
      },
      "source": [
        "#add your own class names here\n",
        "#I am adding only 'pistol' in the class.names file. If you have more than one \n",
        "#classes, add each class name in the new line. \n",
        "!echo pistol > classes.names"
      ],
      "execution_count": 12,
      "outputs": []
    },
    {
      "cell_type": "code",
      "metadata": {
        "id": "MQBXImDsaJwg"
      },
      "source": [
        "#creating train.txt and test.txt files\n",
        "!echo > train.txt\n",
        "!echo > test.txt"
      ],
      "execution_count": 13,
      "outputs": []
    },
    {
      "cell_type": "markdown",
      "metadata": {
        "id": "GRXZUgq9fxmC"
      },
      "source": [
        "Creating Training and Valdiation sets"
      ]
    },
    {
      "cell_type": "code",
      "metadata": {
        "id": "LtKgKgAEawrc"
      },
      "source": [
        "import random\n",
        "images=[]\n",
        "for file1 in os.listdir('/content/darknet_for_colab/data/ts/'):\n",
        "  if file1.endswith('.jpg'):\n",
        "    images.append(file1)\n",
        "\n",
        "#putting 1000 images in validation/test set\n",
        "val=random.sample(images,1000)\n",
        "train=[n for n in images if n not in val]\n",
        "\n",
        "file_object = open('train.txt', 'w')\n",
        "for i in train:\n",
        "  path='/content/darknet_for_colab/data/ts/'+i\n",
        "  file_object.write(path+'\\n')\n",
        "file_object.close()\n",
        "\n",
        "file_object = open('test.txt', 'w')\n",
        "for i in val:\n",
        "  path='/content/darknet_for_colab/data/ts/'+i\n",
        "  file_object.write(path+'\\n')\n",
        "file_object.close()"
      ],
      "execution_count": null,
      "outputs": []
    },
    {
      "cell_type": "markdown",
      "metadata": {
        "id": "UD6Lrif_YGaU"
      },
      "source": [
        "## Visualize custom dataset examples (optional)"
      ]
    },
    {
      "cell_type": "code",
      "metadata": {
        "id": "mL8oVPnwZ2in",
        "colab": {
          "base_uri": "https://localhost:8080/"
        },
        "outputId": "f089e594-8c38-44c4-efd2-e0753e22adf3"
      },
      "source": [
        "%cd .."
      ],
      "execution_count": 15,
      "outputs": [
        {
          "output_type": "stream",
          "text": [
            "/content/darknet_for_colab\n"
          ],
          "name": "stdout"
        }
      ]
    },
    {
      "cell_type": "code",
      "metadata": {
        "id": "1SMVV3xXYgk-"
      },
      "source": [
        "assert os.getcwd()=='/content/darknet_for_colab', 'Directory should be \"/content/darknet_for_colab\" instead of \"{}\"'.format(os.getcwd())\n",
        "\n",
        "import matplotlib.pyplot as plt\n",
        "import matplotlib.gridspec as gridspec\n",
        "import glob\n",
        "\n",
        "def read_label(image_path):\n",
        "  file_name = image_path.replace('.jpg', '.txt')\n",
        "  with open(file_name, 'rt') as file:\n",
        "    print(os.path.basename(file_name) + ': \\n' + file.read())\n",
        "\n",
        "image_path = glob.glob(\"data/ts/*.jpg\")\n",
        "fig = plt.figure(figsize=(12,8))\n",
        "cols = 2\n",
        "rows = 2\n",
        "grid = gridspec.GridSpec(nrows=rows, ncols=cols, figure=fig)\n",
        "for i in range(cols*rows):\n",
        "  fig.add_subplot(grid[i])\n",
        "  image=plt.imread(image_path[i])\n",
        "  plt.title(os.path.basename(image_path[i]))\n",
        "  plt.axis(False)\n",
        "  plt.imshow(image)\n",
        "  read_label(image_path[i])\n",
        "\n",
        "plt.savefig(\"dataset_examples.jpg\", dpi=300)"
      ],
      "execution_count": null,
      "outputs": []
    },
    {
      "cell_type": "markdown",
      "metadata": {
        "id": "187p7jTS5QVa"
      },
      "source": [
        "## Modify yolov4 architecture\n",
        "\n",
        "**Double click on file `yolov4_config.py` to modify the hyperpameters directly from Colab environment**\n",
        "\n",
        "E.g: I will train my dataset with these parameters:\n",
        " - classes= 1, \n",
        " - max_batches=8000\n",
        " - batch=64\n",
        " - subdivisions=16\n",
        " - width=416\n",
        " - height=416\n",
        " - ..."
      ]
    },
    {
      "cell_type": "code",
      "metadata": {
        "id": "hJPivcaZ4sqA",
        "colab": {
          "base_uri": "https://localhost:8080/"
        },
        "outputId": "8da1b33d-0da3-47f2-e8f9-cdcc5c3683ef"
      },
      "source": [
        "assert os.getcwd()=='/content/darknet_for_colab', 'Directory should be \"/content/darknet_for_colab\" instead of \"{}\"'.format(os.getcwd())\n",
        "\n",
        "# Run python script to create our customize yolov4_custom_train.cfg \n",
        "# and yolov4_custom_tes.cfg in folder /cfg\n",
        "!python yolov4_setup.py"
      ],
      "execution_count": 17,
      "outputs": [
        {
          "output_type": "stream",
          "text": [
            "[INFO] Generating yolov4_custom_train.cfg successfully...\n",
            "[INFO] Generating yolov4_custom_test.cfg successfully...\n"
          ],
          "name": "stdout"
        }
      ]
    },
    {
      "cell_type": "markdown",
      "metadata": {
        "id": "tl5GHQf5ZEh3"
      },
      "source": [
        "## Training (When no previous checkpoints available)"
      ]
    },
    {
      "cell_type": "code",
      "metadata": {
        "id": "e7f6_fGm7vFb"
      },
      "source": [
        "assert os.getcwd()=='/content/darknet_for_colab', 'Directory should be \"/content/darknet_for_colab\" instead of \"{}\"'.format(os.getcwd())\n",
        "\n",
        "!./darknet detector train data/yolov4.data cfg/yolov4_custom_train.cfg yolov4.conv.137 -dont_show -map\n",
        "#If you get CUDA out of memory adjust subdivisions above!\n",
        "#adjust max batches down for shorter training above"
      ],
      "execution_count": null,
      "outputs": []
    },
    {
      "cell_type": "markdown",
      "metadata": {
        "id": "90PnLhFcPrig"
      },
      "source": [
        "# Resuming from a checkpoint"
      ]
    },
    {
      "cell_type": "code",
      "metadata": {
        "id": "1vCF80N8Pyi1"
      },
      "source": [
        "assert os.getcwd()=='/content/darknet_for_colab', 'Directory should be \"/content/darknet_for_colab\" instead of \"{}\"'.format(os.getcwd())\n",
        "\n",
        "!./darknet detector train data/yolov4.data cfg/yolov4_custom_train.cfg /content/drive/MyDrive/Weapon_Detection/Yolov4_backup/yolov4_custom_train_last.weights -dont_show -map"
      ],
      "execution_count": null,
      "outputs": []
    },
    {
      "cell_type": "markdown",
      "metadata": {
        "id": "azzJCBjMZO6Y"
      },
      "source": [
        "## Visualize training result"
      ]
    },
    {
      "cell_type": "code",
      "metadata": {
        "id": "R4ruwfrV9GUR"
      },
      "source": [
        "assert os.getcwd()=='/content/darknet_for_colab', 'Directory should be \"/content/darknet_for_colab\" instead of \"{}\"'.format(os.getcwd())\n",
        "\n",
        "# Plotting training result after 2000 epochs\n",
        "import matplotlib.pyplot as plt\n",
        "fig = plt.figure(figsize=(10,10))\n",
        "train_result = plt.imread(\"chart.png\")\n",
        "plt.axis(False)\n",
        "plt.imshow(train_result)"
      ],
      "execution_count": null,
      "outputs": []
    },
    {
      "cell_type": "code",
      "metadata": {
        "id": "69tfrXAFIbkk"
      },
      "source": [
        "# show labels of our custom traffic sign dataset\n",
        "assert os.getcwd()=='/content/darknet_for_colab', 'Directory should be \"/content/darknet_for_colab\" instead of \"{}\"'.format(os.getcwd())\n",
        "\n",
        "!cat data/classes.names"
      ],
      "execution_count": null,
      "outputs": []
    },
    {
      "cell_type": "markdown",
      "metadata": {
        "id": "FVJfL6dRZppP"
      },
      "source": [
        "## Test with example image/video"
      ]
    },
    {
      "cell_type": "code",
      "metadata": {
        "id": "ISC0Lk_ua-QY"
      },
      "source": [
        "assert os.getcwd()=='/content/darknet_for_colab', 'Directory should be \"/content/darknet_for_colab\" instead of \"{}\"'.format(os.getcwd())\n",
        "\n",
        "# download example images and video\n",
        "!wget --no-check-certificate \"https://onedrive.live.com/download?cid=A86CBC7F31A1C06B&resid=A86CBC7F31A1C06B%21120&authkey=AM5VslNNW9a8aO8\" -O examples.zip\n",
        "!unzip examples.zip\n",
        "!rm -r examples.zip"
      ],
      "execution_count": null,
      "outputs": []
    },
    {
      "cell_type": "code",
      "metadata": {
        "id": "1URDPsaKVTyd"
      },
      "source": [
        "assert os.getcwd()=='/content/darknet_for_colab', 'Directory should be \"/content/darknet_for_colab\" instead of \"{}\"'.format(os.getcwd())\n",
        "\n",
        "# cfg/coco.data was harcode in darknet, thus we need \n",
        "# to duplicate one with the same content of data/yolov4.data\n",
        "%cp data/yolov4.data cfg/coco.data"
      ],
      "execution_count": null,
      "outputs": []
    },
    {
      "cell_type": "code",
      "metadata": {
        "id": "B9CiyhAg9big"
      },
      "source": [
        "assert os.getcwd()=='/content/darknet_for_colab', 'Directory should be \"/content/darknet_for_colab\" instead of \"{}\"'.format(os.getcwd())\n",
        "\n",
        "# test out our detector!\n",
        "# coco.names is hardcoded somewhere in the detector\n",
        "img_path = \"examples/test_image_4.jpg\"\n",
        "!./darknet detect cfg/yolov4_custom_test.cfg backup/yolov4_custom_train_last.weights {img_path} -dont-show"
      ],
      "execution_count": null,
      "outputs": []
    },
    {
      "cell_type": "code",
      "metadata": {
        "id": "gRKX-EmYev42"
      },
      "source": [
        "assert os.getcwd()=='/content/darknet_for_colab', 'Directory should be \"/content/darknet_for_colab\" instead of \"{}\"'.format(os.getcwd())\n",
        "\n",
        "import matplotlib.pyplot as plt \n",
        "fig = plt.figure(figsize=(12,12))\n",
        "plt.axis(False)\n",
        "processed_image = plt.imread(\"./predictions.jpg\")\n",
        "plt.imshow(processed_image)"
      ],
      "execution_count": null,
      "outputs": []
    },
    {
      "cell_type": "code",
      "metadata": {
        "id": "Kk2tyXDXkkur"
      },
      "source": [
        "assert os.getcwd()=='/content/darknet_for_colab', 'Directory should be \"/content/darknet_for_colab\" instead of \"{}\"'.format(os.getcwd())\n",
        "\n",
        "# video processed\n",
        "!python darknet_video.py -v examples/test_video.mp4 -c cfg/yolov4_custom_test.cfg -w backup/yolov4_custom_train_last.weights -o output.mp4"
      ],
      "execution_count": null,
      "outputs": []
    },
    {
      "cell_type": "markdown",
      "metadata": {
        "id": "pdvbA30LalW1"
      },
      "source": [
        "## The End!"
      ]
    }
  ]
}